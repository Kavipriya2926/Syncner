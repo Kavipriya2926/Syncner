{
 "cells": [
  {
   "cell_type": "code",
   "execution_count": 1,
   "id": "97ff62ed-b204-4e35-a4d0-bb8a80b6a79f",
   "metadata": {},
   "outputs": [
    {
     "name": "stdout",
     "output_type": "stream",
     "text": [
      "Accuracy with custom kernel: 0.89\n",
      "Accuracy with polynomial kernel: 0.91\n",
      "Accuracy with RBF kernel: 0.97\n"
     ]
    }
   ],
   "source": [
    "from sklearn.datasets import make_moons\n",
    "from sklearn.preprocessing import StandardScaler\n",
    "import numpy as np\n",
    "from sklearn.svm import SVC\n",
    "from sklearn.metrics import accuracy_score\n",
    "X, y = make_moons(n_samples=100, noise=0.1, random_state=42)\n",
    "\n",
    "def custom_kernel(x, y):\n",
    "    return (np.dot(x, y.T) + 1) ** 2\n",
    "\n",
    "scaler = StandardScaler()\n",
    "X_scaled = scaler.fit_transform(X)\n",
    "\n",
    "gram_matrix = custom_kernel(X_scaled, X_scaled)\n",
    "\n",
    "svc_custom = SVC(kernel='precomputed')\n",
    "svc_custom.fit(gram_matrix, y)\n",
    "\n",
    "svc_poly = SVC(kernel='poly')\n",
    "svc_poly.fit(X_scaled, y)\n",
    "\n",
    "svc_rbf = SVC(kernel='rbf')\n",
    "svc_rbf.fit(X_scaled, y)\n",
    "\n",
    "y_pred_custom = svc_custom.predict(gram_matrix)\n",
    "y_pred_poly = svc_poly.predict(X_scaled)\n",
    "y_pred_rbf = svc_rbf.predict(X_scaled)\n",
    "\n",
    "accuracy_custom = accuracy_score(y, y_pred_custom)\n",
    "accuracy_poly = accuracy_score(y, y_pred_poly)\n",
    "accuracy_rbf = accuracy_score(y, y_pred_rbf)\n",
    "\n",
    "print(f\"Accuracy with custom kernel: {accuracy_custom}\")\n",
    "print(f\"Accuracy with polynomial kernel: {accuracy_poly}\")\n",
    "print(f\"Accuracy with RBF kernel: {accuracy_rbf}\")"
   ]
  },
  {
   "cell_type": "code",
   "execution_count": null,
   "id": "c764177f-2d9f-48de-9f38-2cbd748b07f2",
   "metadata": {},
   "outputs": [],
   "source": []
  }
 ],
 "metadata": {
  "kernelspec": {
   "display_name": "Python [conda env:base] *",
   "language": "python",
   "name": "conda-base-py"
  },
  "language_info": {
   "codemirror_mode": {
    "name": "ipython",
    "version": 3
   },
   "file_extension": ".py",
   "mimetype": "text/x-python",
   "name": "python",
   "nbconvert_exporter": "python",
   "pygments_lexer": "ipython3",
   "version": "3.12.7"
  }
 },
 "nbformat": 4,
 "nbformat_minor": 5
}
