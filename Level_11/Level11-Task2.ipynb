{
 "cells": [
  {
   "cell_type": "code",
   "execution_count": 3,
   "id": "dbb3021f-6850-4c17-84ba-d3aeb5e4b04a",
   "metadata": {},
   "outputs": [
    {
     "name": "stdout",
     "output_type": "stream",
     "text": [
      "   car_ID  symboling                   CarName doornumber  wheelbase  \\\n",
      "0       1          3        alfa-romero giulia        two       88.6   \n",
      "1       2          3       alfa-romero stelvio        two       88.6   \n",
      "2       3          1  alfa-romero Quadrifoglio        two       94.5   \n",
      "3       4          2               audi 100 ls       four       99.8   \n",
      "4       5          2                audi 100ls       four       99.4   \n",
      "\n",
      "   carlength  carwidth  carheight  curbweight enginetype  ...    price  \\\n",
      "0      168.8      64.1       48.8        2548       dohc  ...  13495.0   \n",
      "1      168.8      64.1       48.8        2548       dohc  ...  16500.0   \n",
      "2      171.2      65.5       52.4        2823       ohcv  ...  16500.0   \n",
      "3      176.6      66.2       54.3        2337        ohc  ...  13950.0   \n",
      "4      176.6      66.4       54.3        2824        ohc  ...  17450.0   \n",
      "\n",
      "   fueltype_gas aspiration_turbo  carbody_hardtop  carbody_hatchback  \\\n",
      "0          True            False            False              False   \n",
      "1          True            False            False              False   \n",
      "2          True            False            False               True   \n",
      "3          True            False            False              False   \n",
      "4          True            False            False              False   \n",
      "\n",
      "   carbody_sedan  carbody_wagon  drivewheel_fwd  drivewheel_rwd  \\\n",
      "0          False          False           False            True   \n",
      "1          False          False           False            True   \n",
      "2          False          False           False            True   \n",
      "3           True          False            True           False   \n",
      "4           True          False           False           False   \n",
      "\n",
      "   enginelocation_rear  \n",
      "0                False  \n",
      "1                False  \n",
      "2                False  \n",
      "3                False  \n",
      "4                False  \n",
      "\n",
      "[5 rows x 30 columns]\n"
     ]
    }
   ],
   "source": [
    "import pandas as pd\n",
    "df = pd.read_csv('D:/CarPrice_Assignment.csv')\n",
    "numeric_cols = df.select_dtypes(include=['float64', 'int64']).columns\n",
    "non_numeric_cols = df.select_dtypes(exclude=['float64', 'int64']).columns\n",
    "df[numeric_cols] = df[numeric_cols].fillna(df[numeric_cols].mean())\n",
    "df[non_numeric_cols] = df[non_numeric_cols].fillna(df[non_numeric_cols].mode().iloc[0])\n",
    "features = df[['curbweight', 'enginesize', 'horsepower', 'citympg', 'highwaympg']]\n",
    "target = df['price']\n",
    "df_encoded = pd.get_dummies(df, columns=['fueltype', 'aspiration', 'carbody', 'drivewheel', 'enginelocation'], drop_first=True)\n",
    "print(df_encoded.head())\n"
   ]
  },
  {
   "cell_type": "code",
   "execution_count": null,
   "id": "0b0dd3d6-e66f-4d73-a218-3425e60c9137",
   "metadata": {},
   "outputs": [],
   "source": []
  }
 ],
 "metadata": {
  "kernelspec": {
   "display_name": "Python [conda env:base] *",
   "language": "python",
   "name": "conda-base-py"
  },
  "language_info": {
   "codemirror_mode": {
    "name": "ipython",
    "version": 3
   },
   "file_extension": ".py",
   "mimetype": "text/x-python",
   "name": "python",
   "nbconvert_exporter": "python",
   "pygments_lexer": "ipython3",
   "version": "3.12.7"
  }
 },
 "nbformat": 4,
 "nbformat_minor": 5
}
