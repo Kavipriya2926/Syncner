{
 "cells": [
  {
   "cell_type": "code",
   "execution_count": 1,
   "id": "d3539b17-bf72-4319-a1e0-21c6af3e567a",
   "metadata": {},
   "outputs": [
    {
     "name": "stdout",
     "output_type": "stream",
     "text": [
      "z=1.0 for x=60\n",
      "z=-1.0 for x=40\n",
      "x = 60 is 1.0 standard deviation above the mean.\n",
      "x = 40 is 1.0 standard deviation below the mean.\n"
     ]
    }
   ],
   "source": [
    "mean=50\n",
    "x=60\n",
    "x1=40\n",
    "std_deviation=10\n",
    "z=(x-mean)/std_deviation\n",
    "z1=(x1-mean)/std_deviation\n",
    "print(f\"z={z} for x={x}\")\n",
    "print(f\"z={z1} for x={x1}\")\n",
    "if z > 0:\n",
    "    print(f\"x = {x} is {z} standard deviation above the mean.\")\n",
    "else:\n",
    "    print(f\"x = {x} is {abs(z)} standard deviation below the mean.\")\n",
    "if z1 > 0:\n",
    "    print(f\"x = {x1} is {z1} standard deviation above the mean.\")\n",
    "else:\n",
    "    print(f\"x = {x1} is {abs(z1)} standard deviation below the mean.\")"
   ]
  },
  {
   "cell_type": "code",
   "execution_count": null,
   "id": "9de181f1-6a4a-4b81-9cdc-012b5b4e75d6",
   "metadata": {},
   "outputs": [],
   "source": []
  }
 ],
 "metadata": {
  "kernelspec": {
   "display_name": "Python [conda env:base] *",
   "language": "python",
   "name": "conda-base-py"
  },
  "language_info": {
   "codemirror_mode": {
    "name": "ipython",
    "version": 3
   },
   "file_extension": ".py",
   "mimetype": "text/x-python",
   "name": "python",
   "nbconvert_exporter": "python",
   "pygments_lexer": "ipython3",
   "version": "3.12.7"
  }
 },
 "nbformat": 4,
 "nbformat_minor": 5
}
