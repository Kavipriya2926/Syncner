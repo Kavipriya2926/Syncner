{
 "cells": [
  {
   "cell_type": "code",
   "execution_count": 1,
   "id": "b5343d39-cf05-4c0c-8b05-ce872d9c11d0",
   "metadata": {},
   "outputs": [
    {
     "name": "stdout",
     "output_type": "stream",
     "text": [
      "SHA256 hash: 2cf24dba5fb0a30e26e83b2ac5b9e29e1b161e5c1fa7425e73043362938b9824\n"
     ]
    }
   ],
   "source": [
    "import hashlib\n",
    "str='hello'\n",
    "hashedvalu=hashlib.sha256(str.encode())\n",
    "hex_hash=hashedvalu.hexdigest()\n",
    "print(\"SHA256 hash:\",hex_hash)"
   ]
  },
  {
   "cell_type": "code",
   "execution_count": null,
   "id": "6379542d-3bb8-4d4b-899f-7cc6d4501dfd",
   "metadata": {},
   "outputs": [],
   "source": []
  }
 ],
 "metadata": {
  "kernelspec": {
   "display_name": "Python [conda env:base] *",
   "language": "python",
   "name": "conda-base-py"
  },
  "language_info": {
   "codemirror_mode": {
    "name": "ipython",
    "version": 3
   },
   "file_extension": ".py",
   "mimetype": "text/x-python",
   "name": "python",
   "nbconvert_exporter": "python",
   "pygments_lexer": "ipython3",
   "version": "3.12.7"
  }
 },
 "nbformat": 4,
 "nbformat_minor": 5
}
