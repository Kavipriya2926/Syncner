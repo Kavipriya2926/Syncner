{
 "cells": [
  {
   "cell_type": "code",
   "execution_count": 1,
   "id": "35f19a3b-52c0-4b5e-bee9-fc6112b3c2af",
   "metadata": {},
   "outputs": [
    {
     "name": "stdout",
     "output_type": "stream",
     "text": [
      "Q1: 3.25\n",
      "Q3: 7.75\n",
      "IQR: 4.5\n",
      "Outliers: [20]\n"
     ]
    }
   ],
   "source": [
    "import numpy as np\n",
    "data=[1,2,3,4,5,6,7,8,9,20]\n",
    "Q1=np.percentile(data,25)\n",
    "Q3=np.percentile(data,75)\n",
    "IQR=Q3-Q1\n",
    "lower_fence=Q1-1.5*IQR\n",
    "upper_fence=Q3+1.5*IQR\n",
    "outliers=[x for x in data if x<lower_fence or x>upper_fence]\n",
    "print(f\"Q1: {Q1}\")\n",
    "print(f\"Q3: {Q3}\")\n",
    "print(f\"IQR: {IQR}\")\n",
    "print(f\"Outliers: {outliers}\")"
   ]
  },
  {
   "cell_type": "code",
   "execution_count": null,
   "id": "e2f4405a-cf05-4310-b2fa-6d1955e69773",
   "metadata": {},
   "outputs": [],
   "source": []
  }
 ],
 "metadata": {
  "kernelspec": {
   "display_name": "Python [conda env:base] *",
   "language": "python",
   "name": "conda-base-py"
  },
  "language_info": {
   "codemirror_mode": {
    "name": "ipython",
    "version": 3
   },
   "file_extension": ".py",
   "mimetype": "text/x-python",
   "name": "python",
   "nbconvert_exporter": "python",
   "pygments_lexer": "ipython3",
   "version": "3.12.7"
  }
 },
 "nbformat": 4,
 "nbformat_minor": 5
}
