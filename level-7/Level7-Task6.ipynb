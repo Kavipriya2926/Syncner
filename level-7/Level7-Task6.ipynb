{
 "cells": [
  {
   "cell_type": "code",
   "execution_count": 3,
   "id": "1f3a610c-8b8a-49cd-8c77-d2a276a9be90",
   "metadata": {},
   "outputs": [
    {
     "name": "stdout",
     "output_type": "stream",
     "text": [
      "P(Queen or Heart) = 0.3076923076923077 ≈ 0.3077\n"
     ]
    }
   ],
   "source": [
    "P_Queen=4 / 52\n",
    "P_Heart=13 / 52\n",
    "P_Queen_and_Heart=1 / 52\n",
    "P_Queen_or_Heart=P_Queen + P_Heart - P_Queen_and_Heart\n",
    "print(f\"P(Queen or Heart) = {P_Queen_or_Heart} ≈ {round(P_Queen_or_Heart, 4)}\")\n"
   ]
  },
  {
   "cell_type": "code",
   "execution_count": null,
   "id": "7648eb12-5e06-4dc8-aeb1-c653559b2822",
   "metadata": {},
   "outputs": [],
   "source": []
  }
 ],
 "metadata": {
  "kernelspec": {
   "display_name": "Python [conda env:base] *",
   "language": "python",
   "name": "conda-base-py"
  },
  "language_info": {
   "codemirror_mode": {
    "name": "ipython",
    "version": 3
   },
   "file_extension": ".py",
   "mimetype": "text/x-python",
   "name": "python",
   "nbconvert_exporter": "python",
   "pygments_lexer": "ipython3",
   "version": "3.12.7"
  }
 },
 "nbformat": 4,
 "nbformat_minor": 5
}
