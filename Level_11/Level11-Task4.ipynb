{
 "cells": [
  {
   "cell_type": "code",
   "execution_count": 3,
   "id": "22664b20-641c-49c9-a8c5-2d70ad0a450d",
   "metadata": {},
   "outputs": [
    {
     "name": "stdout",
     "output_type": "stream",
     "text": [
      "Selected Features (non-zero coefficients):\n",
      "         Feature   Coefficient\n",
      "0       Lot Area   9065.537873\n",
      "1   Overall Qual  45236.293527\n",
      "2   Overall Cond   -432.739517\n",
      "3    Gr Liv Area  32613.657070\n",
      "4  TotRms AbvGrd  -8138.733269\n",
      "5        Yr Sold  -1423.605266\n",
      "R²: 0.7451562001489547\n",
      "Mean Squared Error (MSE): 2043222380.2004194\n"
     ]
    }
   ],
   "source": [
    "import pandas as pd\n",
    "import numpy as np\n",
    "import matplotlib.pyplot as plt\n",
    "from sklearn.model_selection import train_test_split\n",
    "from sklearn.preprocessing import StandardScaler\n",
    "from sklearn.linear_model import Lasso\n",
    "from sklearn.metrics import mean_squared_error, r2_score\n",
    "from sklearn.impute import SimpleImputer\n",
    "from sklearn.compose import ColumnTransformer\n",
    "from sklearn.pipeline import Pipeline\n",
    "from sklearn.preprocessing import OneHotEncoder\n",
    "df = pd.read_csv('D:/AmesHousing.csv')  \n",
    "\n",
    "imputer = SimpleImputer(strategy='mean')  \n",
    "df_imputed = pd.DataFrame(imputer.fit_transform(df.select_dtypes(include=[np.number])))\n",
    "\n",
    "categorical_cols = df.select_dtypes(include=['object']).columns\n",
    "preprocessor = ColumnTransformer(\n",
    "    transformers=[\n",
    "        ('num', SimpleImputer(strategy='mean'), df.select_dtypes(include=[np.number]).columns),\n",
    "        ('cat', OneHotEncoder(), categorical_cols)\n",
    "    ])\n",
    "\n",
    "X = df.drop(columns='SalePrice')  \n",
    "y = df['SalePrice']\n",
    "X_train, X_test, y_train, y_test = train_test_split(X, y, test_size=0.2, random_state=42)\n",
    "\n",
    "scaler = StandardScaler()\n",
    "X_train_scaled = scaler.fit_transform(X_train)\n",
    "X_test_scaled = scaler.transform(X_test)\n",
    "lasso_model = Lasso(alpha=0.1)\n",
    "lasso_model.fit(X_train_scaled, y_train)\n",
    "coefficients = pd.DataFrame({\n",
    "    'Feature': X.columns,\n",
    "    'Coefficient': lasso_model.coef_\n",
    "})\n",
    "selected_features = coefficients[coefficients['Coefficient'] != 0]\n",
    "y_pred = lasso_model.predict(X_test_scaled)\n",
    "r2 = r2_score(y_test, y_pred)\n",
    "mse = mean_squared_error(y_test, y_pred)\n",
    "print(\"Selected Features (non-zero coefficients):\")\n",
    "print(selected_features)\n",
    "print(f\"R²: {r2}\")\n",
    "print(f\"Mean Squared Error (MSE): {mse}\")\n",
    "\n"
   ]
  },
  {
   "cell_type": "code",
   "execution_count": null,
   "id": "6d7baf97-7059-49c4-b87c-a1ae29036ebc",
   "metadata": {},
   "outputs": [],
   "source": []
  }
 ],
 "metadata": {
  "kernelspec": {
   "display_name": "Python [conda env:base] *",
   "language": "python",
   "name": "conda-base-py"
  },
  "language_info": {
   "codemirror_mode": {
    "name": "ipython",
    "version": 3
   },
   "file_extension": ".py",
   "mimetype": "text/x-python",
   "name": "python",
   "nbconvert_exporter": "python",
   "pygments_lexer": "ipython3",
   "version": "3.12.7"
  }
 },
 "nbformat": 4,
 "nbformat_minor": 5
}
