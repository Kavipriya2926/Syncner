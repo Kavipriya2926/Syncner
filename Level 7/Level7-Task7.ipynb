{
 "cells": [
  {
   "cell_type": "code",
   "execution_count": 1,
   "id": "a4412143-2b70-46c9-bb33-3ca6e33a21d1",
   "metadata": {},
   "outputs": [
    {
     "name": "stdout",
     "output_type": "stream",
     "text": [
      "Simulated probability 0.019 and Theoretical probability is 1/36 ≈ 0.0278, close to simulation.\n"
     ]
    }
   ],
   "source": [
    "import numpy as np\n",
    "rolls = np.random.randint(1, 7, size=(1000, 2))\n",
    "count = np.sum((rolls[:, 0] == 5) & (rolls[:, 1] == 4))\n",
    "cal_probability=count / 1000\n",
    "P_5=1 / 6\n",
    "P_4=1 / 6\n",
    "compare=P_5*P_4\n",
    "print(f\"Simulated probability {cal_probability} and Theoretical probability is 1/36 ≈ {round(compare, 4)}, close to simulation.\")"
   ]
  },
  {
   "cell_type": "code",
   "execution_count": null,
   "id": "affdbc21-669b-4ef0-9573-5fd7784199dd",
   "metadata": {},
   "outputs": [],
   "source": []
  }
 ],
 "metadata": {
  "kernelspec": {
   "display_name": "Python [conda env:base] *",
   "language": "python",
   "name": "conda-base-py"
  },
  "language_info": {
   "codemirror_mode": {
    "name": "ipython",
    "version": 3
   },
   "file_extension": ".py",
   "mimetype": "text/x-python",
   "name": "python",
   "nbconvert_exporter": "python",
   "pygments_lexer": "ipython3",
   "version": "3.12.7"
  }
 },
 "nbformat": 4,
 "nbformat_minor": 5
}
