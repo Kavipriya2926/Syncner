{
 "cells": [
  {
   "cell_type": "code",
   "execution_count": 1,
   "id": "f5ebc4ec-da02-42fb-8967-7c0208f57c07",
   "metadata": {},
   "outputs": [
    {
     "name": "stdout",
     "output_type": "stream",
     "text": [
      "Population: All families in the city (Total: 100 families)\n",
      "Sample: 100 surveyed households\n",
      "Average income of the population: $60682.48\n",
      "Average income of the sample: $60682.48\n"
     ]
    }
   ],
   "source": [
    "import random \n",
    "population_size=100\n",
    "city_population=[random.randint(30000,100000) for _ in range(population_size)]\n",
    "sample_size=100\n",
    "sample_household=random.sample(city_population,sample_size)\n",
    "average_population_income=sum(city_population)/len(city_population)\n",
    "average_sample_income=sum(sample_household)/len(sample_household)\n",
    "print(f\"Population: All families in the city (Total: {population_size} families)\")\n",
    "print(f\"Sample: {sample_size} surveyed households\")\n",
    "print(f\"Average income of the population: ${average_population_income:.2f}\")\n",
    "print(f\"Average income of the sample: ${average_sample_income:.2f}\")"
   ]
  },
  {
   "cell_type": "code",
   "execution_count": null,
   "id": "5063097e-2c65-400d-9d5d-753c12e1c623",
   "metadata": {},
   "outputs": [],
   "source": []
  }
 ],
 "metadata": {
  "kernelspec": {
   "display_name": "Python [conda env:base] *",
   "language": "python",
   "name": "conda-base-py"
  },
  "language_info": {
   "codemirror_mode": {
    "name": "ipython",
    "version": 3
   },
   "file_extension": ".py",
   "mimetype": "text/x-python",
   "name": "python",
   "nbconvert_exporter": "python",
   "pygments_lexer": "ipython3",
   "version": "3.12.7"
  }
 },
 "nbformat": 4,
 "nbformat_minor": 5
}
