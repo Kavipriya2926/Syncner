{
 "cells": [
  {
   "cell_type": "code",
   "execution_count": 1,
   "id": "1fcb898e-d0b6-4349-9b7d-2118c0b5b72b",
   "metadata": {},
   "outputs": [
    {
     "name": "stdout",
     "output_type": "stream",
     "text": [
      "Income: 3000, Expenses: 2000, Balance: 1000\n"
     ]
    }
   ],
   "source": [
    "income={'salary':2300,'freelance':500,'investment':200}\n",
    "expenses={'rent':1100,'food':500,'utilities':200,'transporation':200}\n",
    "def cal_total_income(income_dict):\n",
    "    return sum(income_dict.values())\n",
    "def cal_total_expenses(expenses_dict):\n",
    "    return sum(expenses_dict.values())\n",
    "total_income = cal_total_income(income)\n",
    "total_expenses = cal_total_expenses(expenses)\n",
    "balance = total_income - total_expenses  \n",
    "print(f\"Income: {total_income}, Expenses: {total_expenses}, Balance: {balance}\")"
   ]
  },
  {
   "cell_type": "code",
   "execution_count": null,
   "id": "4b37c16a-12a8-4414-acd2-d07fc8274909",
   "metadata": {},
   "outputs": [],
   "source": []
  }
 ],
 "metadata": {
  "kernelspec": {
   "display_name": "Python [conda env:base] *",
   "language": "python",
   "name": "conda-base-py"
  },
  "language_info": {
   "codemirror_mode": {
    "name": "ipython",
    "version": 3
   },
   "file_extension": ".py",
   "mimetype": "text/x-python",
   "name": "python",
   "nbconvert_exporter": "python",
   "pygments_lexer": "ipython3",
   "version": "3.12.7"
  }
 },
 "nbformat": 4,
 "nbformat_minor": 5
}
