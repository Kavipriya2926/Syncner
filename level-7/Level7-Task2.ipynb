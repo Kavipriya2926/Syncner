{
 "cells": [
  {
   "cell_type": "code",
   "execution_count": 1,
   "id": "57dc61dc-0bc2-4563-8b32-1714757f1e19",
   "metadata": {},
   "outputs": [
    {
     "name": "stdout",
     "output_type": "stream",
     "text": [
      "Approximately 40.12936743170763% of score fall above 0.4012936743170763\n"
     ]
    }
   ],
   "source": [
    "from scipy.stats import norm\n",
    "z=0.25\n",
    "tail_area=norm.sf(z)\n",
    "percentage=tail_area*100\n",
    "print(f\"Approximately {percentage}% of score fall above {tail_area}\")"
   ]
  },
  {
   "cell_type": "code",
   "execution_count": null,
   "id": "15754496-b1bd-47ea-bbb3-87a356532169",
   "metadata": {},
   "outputs": [],
   "source": []
  }
 ],
 "metadata": {
  "kernelspec": {
   "display_name": "Python [conda env:base] *",
   "language": "python",
   "name": "conda-base-py"
  },
  "language_info": {
   "codemirror_mode": {
    "name": "ipython",
    "version": 3
   },
   "file_extension": ".py",
   "mimetype": "text/x-python",
   "name": "python",
   "nbconvert_exporter": "python",
   "pygments_lexer": "ipython3",
   "version": "3.12.7"
  }
 },
 "nbformat": 4,
 "nbformat_minor": 5
}
