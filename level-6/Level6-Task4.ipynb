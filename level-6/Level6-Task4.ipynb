{
 "cells": [
  {
   "cell_type": "code",
   "execution_count": 1,
   "id": "ffa61862-bc3a-44d1-bb3c-f93da471b8f1",
   "metadata": {},
   "outputs": [
    {
     "name": "stdout",
     "output_type": "stream",
     "text": [
      "Number of pets:Quantitative (discrete)\n",
      "Blood type:Qualitative\n",
      "Weight in kg:Quantitative (continuous)\n",
      "Satisfaction level:Qualitative\n"
     ]
    }
   ],
   "source": [
    "variables = {\n",
    "    'Number of pets': 'Quantitative (discrete)',\n",
    "    'Blood type': 'Qualitative',\n",
    "    'Weight in kg': 'Quantitative (continuous)',\n",
    "    'Satisfaction level': 'Qualitative'\n",
    "}\n",
    "for var,classification in variables.items():\n",
    "    print(f\"{var}:{classification}\")"
   ]
  },
  {
   "cell_type": "code",
   "execution_count": null,
   "id": "58ae94a2-8bbe-42ce-9f75-87889210794f",
   "metadata": {},
   "outputs": [],
   "source": []
  }
 ],
 "metadata": {
  "kernelspec": {
   "display_name": "Python [conda env:base] *",
   "language": "python",
   "name": "conda-base-py"
  },
  "language_info": {
   "codemirror_mode": {
    "name": "ipython",
    "version": 3
   },
   "file_extension": ".py",
   "mimetype": "text/x-python",
   "name": "python",
   "nbconvert_exporter": "python",
   "pygments_lexer": "ipython3",
   "version": "3.12.7"
  }
 },
 "nbformat": 4,
 "nbformat_minor": 5
}
