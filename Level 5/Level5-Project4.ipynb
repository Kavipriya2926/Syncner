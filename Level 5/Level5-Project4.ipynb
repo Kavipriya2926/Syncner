{
 "cells": [
  {
   "cell_type": "code",
   "execution_count": 1,
   "id": "eeb32544-707f-45bf-8ede-3b2f53f0b82d",
   "metadata": {},
   "outputs": [
    {
     "name": "stdin",
     "output_type": "stream",
     "text": [
      "Enter a short text message to encrypt:  how are you\n"
     ]
    },
    {
     "name": "stdout",
     "output_type": "stream",
     "text": [
      "SHA256 Hash of the message: 0b9a11ae035c536dd0c676ff39482bf7996dc76cda7a31cac89626e71517ab68\n"
     ]
    }
   ],
   "source": [
    "import hashlib\n",
    "message = input(\"Enter a short text message to encrypt: \")\n",
    "with open(\"message.txt\",\"w\") as file:\n",
    "    file.write(message)\n",
    "with open(\"message.txt\", \"r\") as file:\n",
    "    file_content = file.read()\n",
    "hashedvalu=hashlib.sha256(file_content.encode())\n",
    "hex_hash=hashedvalu.hexdigest()\n",
    "with open(\"encrypted.txt\", \"w\") as hash_file:\n",
    "    hash_file.write(hex_hash)\n",
    "print(f\"SHA256 Hash of the message: {hex_hash}\")"
   ]
  },
  {
   "cell_type": "code",
   "execution_count": null,
   "id": "4046223d-b627-4c0f-b1c6-56bc45a41663",
   "metadata": {},
   "outputs": [],
   "source": []
  }
 ],
 "metadata": {
  "kernelspec": {
   "display_name": "Python [conda env:base] *",
   "language": "python",
   "name": "conda-base-py"
  },
  "language_info": {
   "codemirror_mode": {
    "name": "ipython",
    "version": 3
   },
   "file_extension": ".py",
   "mimetype": "text/x-python",
   "name": "python",
   "nbconvert_exporter": "python",
   "pygments_lexer": "ipython3",
   "version": "3.12.7"
  }
 },
 "nbformat": 4,
 "nbformat_minor": 5
}
