{
 "cells": [
  {
   "cell_type": "code",
   "execution_count": 1,
   "id": "3bbef6fd-8ba4-4b6c-bf03-39800d5c751c",
   "metadata": {},
   "outputs": [
    {
     "name": "stdout",
     "output_type": "stream",
     "text": [
      "[1, 2, 3]\n",
      "['A', 'B', 'C']\n"
     ]
    }
   ],
   "source": [
    "import threading\n",
    "def print_num():\n",
    "    print([1,2,3])\n",
    "def print_letter():\n",
    "    print([\"A\",\"B\",\"C\"])\n",
    "thread1 = threading.Thread(target=print_num)\n",
    "thread2 = threading.Thread(target=print_letter)\n",
    "thread1.start()\n",
    "thread2.start()\n",
    "thread1.join()\n",
    "thread2.join()"
   ]
  },
  {
   "cell_type": "code",
   "execution_count": null,
   "id": "e7767454-eb0b-48be-be9f-8ec36d7e2a77",
   "metadata": {},
   "outputs": [],
   "source": []
  }
 ],
 "metadata": {
  "kernelspec": {
   "display_name": "Python [conda env:base] *",
   "language": "python",
   "name": "conda-base-py"
  },
  "language_info": {
   "codemirror_mode": {
    "name": "ipython",
    "version": 3
   },
   "file_extension": ".py",
   "mimetype": "text/x-python",
   "name": "python",
   "nbconvert_exporter": "python",
   "pygments_lexer": "ipython3",
   "version": "3.12.7"
  }
 },
 "nbformat": 4,
 "nbformat_minor": 5
}
