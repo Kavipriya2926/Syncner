{
 "cells": [
  {
   "cell_type": "code",
   "execution_count": 7,
   "id": "5e9bc2ae-b0e2-41af-a83a-4fe2b011ac1a",
   "metadata": {},
   "outputs": [
    {
     "name": "stdout",
     "output_type": "stream",
     "text": [
      "Requirement already satisfied: xgboost in c:\\users\\indum\\anaconda3\\lib\\site-packages (3.0.0)\n",
      "Requirement already satisfied: numpy in c:\\users\\indum\\anaconda3\\lib\\site-packages (from xgboost) (1.26.4)\n",
      "Requirement already satisfied: scipy in c:\\users\\indum\\anaconda3\\lib\\site-packages (from xgboost) (1.13.1)\n"
     ]
    }
   ],
   "source": [
    "!pip install xgboost"
   ]
  },
  {
   "cell_type": "code",
   "execution_count": 19,
   "id": "7423c705-1fd3-48f7-8cc8-3cb62c8ac5c0",
   "metadata": {},
   "outputs": [
    {
     "name": "stdout",
     "output_type": "stream",
     "text": [
      "Index(['id', 'Date', 'number of bedrooms', 'number of bathrooms',\n",
      "       'living area', 'lot area', 'number of floors', 'waterfront present',\n",
      "       'number of views', 'condition of the house', 'grade of the house',\n",
      "       'Area of the house(excluding basement)', 'Area of the basement',\n",
      "       'Built Year', 'Renovation Year', 'Postal Code', 'Lattitude',\n",
      "       'Longitude', 'living_area_renov', 'lot_area_renov',\n",
      "       'Number of schools nearby', 'Distance from the airport', 'Price'],\n",
      "      dtype='object')\n",
      "Best Parameters: {'learning_rate': 0.1, 'max_depth': 5, 'n_estimators': 200}\n",
      "MSE (Default Model): 4431736909.993363\n",
      "MSE (Tuned Model): 6293635066.762872\n"
     ]
    }
   ],
   "source": [
    "import pandas as pd\n",
    "from sklearn.model_selection import train_test_split\n",
    "from sklearn.impute import SimpleImputer\n",
    "from sklearn.preprocessing import LabelEncoder\n",
    "from xgboost import XGBRegressor  \n",
    "from sklearn.model_selection import GridSearchCV\n",
    "from sklearn.metrics import mean_squared_error\n",
    "\n",
    "df = pd.read_csv('D:/house_data.csv')\n",
    "print(df.columns)\n",
    "\n",
    "imputer = SimpleImputer(strategy='mean')  \n",
    "df_imputed = pd.DataFrame(imputer.fit_transform(df.select_dtypes(include=['float64', 'int64'])))\n",
    "df[df_imputed.columns] = df_imputed\n",
    "\n",
    "df = df.drop(columns=['Date'])\n",
    "\n",
    "encoder = LabelEncoder()\n",
    "df['Postal Code'] = encoder.fit_transform(df['Postal Code'].astype(str))\n",
    "\n",
    "X = df.drop('Price', axis=1)  \n",
    "y = df['Price']\n",
    "X_train, X_test, y_train, y_test = train_test_split(X, y, test_size=0.2, random_state=42)\n",
    "\n",
    "model = XGBRegressor()\n",
    "model.fit(X_train, y_train)\n",
    "\n",
    "param_grid = {\n",
    "    'max_depth': [3, 5],\n",
    "    'learning_rate': [0.01, 0.1],\n",
    "    'n_estimators': [100, 200]\n",
    "}\n",
    "\n",
    "grid_search = GridSearchCV(estimator=XGBRegressor(), param_grid=param_grid, cv=5, scoring='neg_mean_squared_error')\n",
    "grid_search.fit(X_train, y_train)\n",
    "\n",
    "best_model = grid_search.best_estimator_\n",
    "\n",
    "y_pred_default = model.predict(X_test)\n",
    "y_pred_tuned = best_model.predict(X_test)\n",
    "\n",
    "mse_default = mean_squared_error(y_test, y_pred_default)\n",
    "mse_tuned = mean_squared_error(y_test, y_pred_tuned)\n",
    "\n",
    "print(f\"Best Parameters: {grid_search.best_params_}\")\n",
    "print(f\"MSE (Default Model): {mse_default}\")\n",
    "print(f\"MSE (Tuned Model): {mse_tuned}\")\n"
   ]
  },
  {
   "cell_type": "code",
   "execution_count": null,
   "id": "95ef936b-fc87-4704-8fe0-199b056f3bf1",
   "metadata": {},
   "outputs": [],
   "source": []
  }
 ],
 "metadata": {
  "kernelspec": {
   "display_name": "Python [conda env:base] *",
   "language": "python",
   "name": "conda-base-py"
  },
  "language_info": {
   "codemirror_mode": {
    "name": "ipython",
    "version": 3
   },
   "file_extension": ".py",
   "mimetype": "text/x-python",
   "name": "python",
   "nbconvert_exporter": "python",
   "pygments_lexer": "ipython3",
   "version": "3.12.7"
  }
 },
 "nbformat": 4,
 "nbformat_minor": 5
}
