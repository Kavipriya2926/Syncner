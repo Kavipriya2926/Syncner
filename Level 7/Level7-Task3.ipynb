{
 "cells": [
  {
   "cell_type": "code",
   "execution_count": 1,
   "id": "9ec4c4d8-eeee-4fed-9e1f-53b6c32050f5",
   "metadata": {},
   "outputs": [
    {
     "name": "stdout",
     "output_type": "stream",
     "text": [
      "No outliers detected; all z-scores are below 3.\n"
     ]
    }
   ],
   "source": [
    "import numpy as np\n",
    "data=[1,2,3,4,5,6,7,8,9,20]\n",
    "mean=np.mean(data)\n",
    "std_deviation=np.std(data)\n",
    "z=[(x-mean)/std_deviation for x in data]\n",
    "outliers = [x for x, z1 in zip(data, z) if abs(z1) > 3]\n",
    "if outliers:\n",
    "    print(f\"Outliers detected: {outliers}\")\n",
    "else:\n",
    "    print(\"No outliers detected; all z-scores are below 3.\")"
   ]
  },
  {
   "cell_type": "code",
   "execution_count": null,
   "id": "ebc7d9dd-0c2c-4bc7-8383-1afcebfa3cec",
   "metadata": {},
   "outputs": [],
   "source": []
  }
 ],
 "metadata": {
  "kernelspec": {
   "display_name": "Python [conda env:base] *",
   "language": "python",
   "name": "conda-base-py"
  },
  "language_info": {
   "codemirror_mode": {
    "name": "ipython",
    "version": 3
   },
   "file_extension": ".py",
   "mimetype": "text/x-python",
   "name": "python",
   "nbconvert_exporter": "python",
   "pygments_lexer": "ipython3",
   "version": "3.12.7"
  }
 },
 "nbformat": 4,
 "nbformat_minor": 5
}
