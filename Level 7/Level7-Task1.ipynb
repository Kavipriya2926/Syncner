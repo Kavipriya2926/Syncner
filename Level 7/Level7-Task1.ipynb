{
 "cells": [
  {
   "cell_type": "code",
   "execution_count": 1,
   "id": "b63203a4-ccab-49f0-9ea1-0583dee31291",
   "metadata": {},
   "outputs": [
    {
     "name": "stdout",
     "output_type": "stream",
     "text": [
      "[-1.4638501094227998, -0.8783100656536799, -0.29277002188455997, 0.29277002188455997, 0.8783100656536799, 1.4638501094227998]\n",
      "0.29277002188455997\n"
     ]
    }
   ],
   "source": [
    "import numpy as np\n",
    "data=[2,3,4,5,6,7]\n",
    "mean=np.mean(data)\n",
    "std_deviation = np.std(data, ddof=0)\n",
    "z_score=[(x-mean)/std_deviation for x in data]\n",
    "print(z_score)\n",
    "x=5\n",
    "z=(x-mean)/std_deviation\n",
    "print(z)"
   ]
  },
  {
   "cell_type": "code",
   "execution_count": null,
   "id": "2f66ec8a-b880-409c-84d8-6ee331ef717e",
   "metadata": {},
   "outputs": [],
   "source": []
  }
 ],
 "metadata": {
  "kernelspec": {
   "display_name": "Python [conda env:base] *",
   "language": "python",
   "name": "conda-base-py"
  },
  "language_info": {
   "codemirror_mode": {
    "name": "ipython",
    "version": 3
   },
   "file_extension": ".py",
   "mimetype": "text/x-python",
   "name": "python",
   "nbconvert_exporter": "python",
   "pygments_lexer": "ipython3",
   "version": "3.12.7"
  }
 },
 "nbformat": 4,
 "nbformat_minor": 5
}
