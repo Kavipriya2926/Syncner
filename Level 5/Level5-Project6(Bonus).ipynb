{
 "cells": [
  {
   "cell_type": "code",
   "execution_count": 1,
   "id": "61367b9b-3a2e-483e-8353-30b2bd1475e9",
   "metadata": {},
   "outputs": [
    {
     "name": "stdout",
     "output_type": "stream",
     "text": [
      "Mean of data2.csv: 538932.2183310534\n",
      "Mean of data1.csv: 538932.2183310534\n"
     ]
    }
   ],
   "source": [
    "import threading\n",
    "import logging\n",
    "import pandas as pd\n",
    "logging.basicConfig(filename='processing.log', level=logging.INFO, format='%(asctime)s - %(message)s')\n",
    "\n",
    "def process_csv(file_name, column_name):\n",
    "    logging.info(f\"Started processing {file_name}\")\n",
    "    try:\n",
    "        data = pd.read_csv(\"D:/house_data.csv\")\n",
    "        mean_value = data['Price'].mean()\n",
    "        logging.info(f\"Finished processing {file_name}. Mean of {column_name}: {mean_value}\")\n",
    "        print(f\"Mean of {file_name}: {mean_value}\")\n",
    "    except Exception as e:\n",
    "        logging.error(f\"Error processing {file_name}: {e}\")\n",
    "file1 = 'data1.csv'\n",
    "file2 = 'data2.csv'\n",
    "column_name = 'value_column'  \n",
    "thread1 = threading.Thread(target=process_csv, args=(file1, column_name))\n",
    "thread2 = threading.Thread(target=process_csv, args=(file2, column_name))\n",
    "thread1.start()\n",
    "thread2.start()\n",
    "thread1.join()\n",
    "thread2.join()"
   ]
  },
  {
   "cell_type": "code",
   "execution_count": null,
   "id": "287de581-e285-4996-a80e-f356c81c6c88",
   "metadata": {},
   "outputs": [],
   "source": []
  }
 ],
 "metadata": {
  "kernelspec": {
   "display_name": "Python [conda env:base] *",
   "language": "python",
   "name": "conda-base-py"
  },
  "language_info": {
   "codemirror_mode": {
    "name": "ipython",
    "version": 3
   },
   "file_extension": ".py",
   "mimetype": "text/x-python",
   "name": "python",
   "nbconvert_exporter": "python",
   "pygments_lexer": "ipython3",
   "version": "3.12.7"
  }
 },
 "nbformat": 4,
 "nbformat_minor": 5
}
