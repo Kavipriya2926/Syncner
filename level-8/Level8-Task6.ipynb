{
 "cells": [
  {
   "cell_type": "code",
   "execution_count": 1,
   "id": "86592fc2-7d87-4a2b-acea-c55346f959dc",
   "metadata": {},
   "outputs": [
    {
     "name": "stdout",
     "output_type": "stream",
     "text": [
      "Simulated P(success): 0.300\n",
      "Matches theoretical P = 0.3 for Bernoulli trial.\n"
     ]
    }
   ],
   "source": [
    "import numpy as np\n",
    "trials=np.random.binomial(n=1,p=0.3,size=1000)\n",
    "simulated_p=trials.mean()\n",
    "print(f\"Simulated P(success): {simulated_p:.3f}\")\n",
    "print(\"Matches theoretical P = 0.3 for Bernoulli trial.\")"
   ]
  },
  {
   "cell_type": "code",
   "execution_count": null,
   "id": "77b0fb8e-bba9-4a6d-adba-cb8da6014274",
   "metadata": {},
   "outputs": [],
   "source": []
  }
 ],
 "metadata": {
  "kernelspec": {
   "display_name": "Python [conda env:base] *",
   "language": "python",
   "name": "conda-base-py"
  },
  "language_info": {
   "codemirror_mode": {
    "name": "ipython",
    "version": 3
   },
   "file_extension": ".py",
   "mimetype": "text/x-python",
   "name": "python",
   "nbconvert_exporter": "python",
   "pygments_lexer": "ipython3",
   "version": "3.12.7"
  }
 },
 "nbformat": 4,
 "nbformat_minor": 5
}
