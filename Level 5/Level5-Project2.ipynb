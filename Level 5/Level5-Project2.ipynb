{
 "cells": [
  {
   "cell_type": "code",
   "execution_count": 3,
   "id": "8a247738-5734-4ee5-b711-d0018f2f2353",
   "metadata": {},
   "outputs": [
    {
     "name": "stdin",
     "output_type": "stream",
     "text": [
      "Enter the name of student1: Alice\n",
      "Enter the grade of Alice (0-100): 85\n",
      "Enter the name of student2: Bob\n",
      "Enter the grade of Bob (0-100): 72\n",
      "Enter the name of student3: Charlie\n",
      "Enter the grade of Charlie (0-100): 58\n",
      "Enter the name of student4: Diana\n",
      "Enter the grade of Diana (0-100): 87\n",
      "Enter the name of student5: Ethan\n",
      "Enter the grade of Ethan (0-100): 89\n"
     ]
    },
    {
     "name": "stdout",
     "output_type": "stream",
     "text": [
      "\n",
      "Average: 78.20\n",
      "Passing: 4\n"
     ]
    }
   ],
   "source": [
    "student=[]\n",
    "for i in range(5):\n",
    "    name=input(f\"Enter the name of student{i+1}:\")\n",
    "    grade=float(input(f\"Enter the grade of {name} (0-100):\"))\n",
    "    student.append((name,grade))\n",
    "def calculate_average(grade_list):\n",
    "    total_grade=sum(grade for _, grade in grade_list)\n",
    "    return total_grade/len(grade_list)\n",
    "def passing_student(grade_list):\n",
    "    return sum(1 for _, grade in grade_list if grade>=60)\n",
    "average_grade = calculate_average(student)\n",
    "passing_students = passing_student(student)\n",
    "print(f\"\\nAverage: {average_grade:.2f}\")\n",
    "print(f\"Passing: {passing_students}\")    "
   ]
  },
  {
   "cell_type": "code",
   "execution_count": null,
   "id": "07d3c584-d455-4145-b4fd-50f55c8cfddc",
   "metadata": {},
   "outputs": [],
   "source": []
  }
 ],
 "metadata": {
  "kernelspec": {
   "display_name": "Python [conda env:base] *",
   "language": "python",
   "name": "conda-base-py"
  },
  "language_info": {
   "codemirror_mode": {
    "name": "ipython",
    "version": 3
   },
   "file_extension": ".py",
   "mimetype": "text/x-python",
   "name": "python",
   "nbconvert_exporter": "python",
   "pygments_lexer": "ipython3",
   "version": "3.12.7"
  }
 },
 "nbformat": 4,
 "nbformat_minor": 5
}
