{
 "cells": [
  {
   "cell_type": "code",
   "execution_count": 5,
   "id": "b02630a3-2294-4030-93f7-35be6da467cc",
   "metadata": {},
   "outputs": [
    {
     "name": "stdout",
     "output_type": "stream",
     "text": [
      "Stratified Sampling Result (Department-wise sample):\n",
      "HR: Sample size = 11\n",
      "Engineering: Sample size = 42\n",
      "Sales: Sample size = 21\n",
      "Marketing: Sample size = 16\n",
      "Finance: Sample size = 11\n"
     ]
    }
   ],
   "source": [
    "import random\n",
    "departments = {\n",
    "    'HR': 50,\n",
    "    'Engineering': 200,\n",
    "    'Sales': 100,\n",
    "    'Marketing': 75,\n",
    "    'Finance': 50,\n",
    "}\n",
    "sample_size = 100\n",
    "total_employees = sum(departments.values())\n",
    "stratified_sample = {}\n",
    "for dept, size in departments.items():\n",
    "    department_proportion = size / total_employees\n",
    "    department_sample_size = round(department_proportion * sample_size)\n",
    "    sampled_employees = random.sample(range(size), department_sample_size)\n",
    "    stratified_sample[dept] = sampled_employees\n",
    "print(\"Stratified Sampling Result (Department-wise sample):\")\n",
    "for dept, sample in stratified_sample.items():\n",
    "    print(f\"{dept}: Sample size = {len(sample)}\")\n"
   ]
  },
  {
   "cell_type": "code",
   "execution_count": null,
   "id": "3c6d05b2-7539-4370-bff2-7fc787482257",
   "metadata": {},
   "outputs": [],
   "source": []
  }
 ],
 "metadata": {
  "kernelspec": {
   "display_name": "Python [conda env:base] *",
   "language": "python",
   "name": "conda-base-py"
  },
  "language_info": {
   "codemirror_mode": {
    "name": "ipython",
    "version": 3
   },
   "file_extension": ".py",
   "mimetype": "text/x-python",
   "name": "python",
   "nbconvert_exporter": "python",
   "pygments_lexer": "ipython3",
   "version": "3.12.7"
  }
 },
 "nbformat": 4,
 "nbformat_minor": 5
}
