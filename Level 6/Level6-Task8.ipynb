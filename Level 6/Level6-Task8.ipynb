{
 "cells": [
  {
   "cell_type": "code",
   "execution_count": 1,
   "id": "c3e431fa-ab4c-4680-90a6-2d8a9a87e13c",
   "metadata": {},
   "outputs": [
    {
     "name": "stdout",
     "output_type": "stream",
     "text": [
      "Approximately 68.27% of the data lies between 85 and 115.\n"
     ]
    }
   ],
   "source": [
    "import scipy.stats as stats\n",
    "mean = 100\n",
    "std_dev = 15\n",
    "lower_bound = 85\n",
    "upper_bound = 115\n",
    "lower_prob = stats.norm.cdf(lower_bound, loc=mean, scale=std_dev)\n",
    "upper_prob = stats.norm.cdf(upper_bound, loc=mean, scale=std_dev)\n",
    "percentage = (upper_prob - lower_prob) * 100\n",
    "print(f\"Approximately {percentage:.2f}% of the data lies between 85 and 115.\")\n"
   ]
  },
  {
   "cell_type": "code",
   "execution_count": null,
   "id": "9c4f1d93-6aa2-4495-aa0e-4d130352b4e8",
   "metadata": {},
   "outputs": [],
   "source": []
  }
 ],
 "metadata": {
  "kernelspec": {
   "display_name": "Python [conda env:base] *",
   "language": "python",
   "name": "conda-base-py"
  },
  "language_info": {
   "codemirror_mode": {
    "name": "ipython",
    "version": 3
   },
   "file_extension": ".py",
   "mimetype": "text/x-python",
   "name": "python",
   "nbconvert_exporter": "python",
   "pygments_lexer": "ipython3",
   "version": "3.12.7"
  }
 },
 "nbformat": 4,
 "nbformat_minor": 5
}
