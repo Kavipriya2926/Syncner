{
 "cells": [
  {
   "cell_type": "code",
   "execution_count": 1,
   "id": "b95c16f6-0e56-43ec-82d2-3423c797e93f",
   "metadata": {},
   "outputs": [
    {
     "name": "stdout",
     "output_type": "stream",
     "text": [
      "Simulated Probability of rolling 1 or 3: 0.332\n",
      "Theoretical Probability: 0.333\n",
      "Theoretical probability is 1/3, close to simulation.\n"
     ]
    }
   ],
   "source": [
    "import numpy as np\n",
    "die_rolls = np.random.randint(1, 7, size=1000)\n",
    "count_1_or_3 = np.sum((die_rolls == 1) | (die_rolls == 3))\n",
    "simulated_probability = count_1_or_3 / 1000\n",
    "theoretical_probability = 1/3\n",
    "print(f\"Simulated Probability of rolling 1 or 3: {simulated_probability:.3f}\")\n",
    "print(f\"Theoretical Probability: {theoretical_probability:.3f}\")\n",
    "if np.isclose(simulated_probability, theoretical_probability, atol=0.05):\n",
    "    print(\"Theoretical probability is 1/3, close to simulation.\")\n",
    "else:\n",
    "    print(\"Theoretical probability differs from simulation.\")"
   ]
  },
  {
   "cell_type": "code",
   "execution_count": null,
   "id": "fab9d26e-52e6-4959-90b1-935d479b80c9",
   "metadata": {},
   "outputs": [],
   "source": []
  }
 ],
 "metadata": {
  "kernelspec": {
   "display_name": "Python [conda env:base] *",
   "language": "python",
   "name": "conda-base-py"
  },
  "language_info": {
   "codemirror_mode": {
    "name": "ipython",
    "version": 3
   },
   "file_extension": ".py",
   "mimetype": "text/x-python",
   "name": "python",
   "nbconvert_exporter": "python",
   "pygments_lexer": "ipython3",
   "version": "3.12.7"
  }
 },
 "nbformat": 4,
 "nbformat_minor": 5
}
