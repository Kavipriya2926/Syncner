{
 "cells": [
  {
   "cell_type": "code",
   "execution_count": 1,
   "id": "d9d83b24-2b98-47ec-a220-a929686b6eea",
   "metadata": {},
   "outputs": [
    {
     "name": "stdout",
     "output_type": "stream",
     "text": [
      "Simulated Probability: 0.0090\n",
      "Theoretical Probability is 4/663 ≈ 0.0060, close to simulation.\n"
     ]
    }
   ],
   "source": [
    "import numpy as np\n",
    "deck = ['Queen', 'Ace'] * 4 + ['Other'] * 44\n",
    "np.random.seed(0)\n",
    "draws = []\n",
    "for _ in range(1000):\n",
    "    np.random.shuffle(deck) \n",
    "    draw = deck[:2] \n",
    "    draws.append(draw)\n",
    "    count = sum(1 for draw in draws if draw[0] == 'Queen' and draw[1] == 'Ace')\n",
    "simulated_probability = count / 1000\n",
    "theoretical_probability = (4 / 52) * (4 / 51)\n",
    "print(f\"Simulated Probability: {simulated_probability:.4f}\")\n",
    "print(f\"Theoretical Probability is 4/663 ≈ {theoretical_probability:.4f}, close to simulation.\")\n"
   ]
  },
  {
   "cell_type": "code",
   "execution_count": null,
   "id": "eb49fc25-83bb-4537-8009-e352a580ce9b",
   "metadata": {},
   "outputs": [],
   "source": []
  }
 ],
 "metadata": {
  "kernelspec": {
   "display_name": "Python [conda env:base] *",
   "language": "python",
   "name": "conda-base-py"
  },
  "language_info": {
   "codemirror_mode": {
    "name": "ipython",
    "version": 3
   },
   "file_extension": ".py",
   "mimetype": "text/x-python",
   "name": "python",
   "nbconvert_exporter": "python",
   "pygments_lexer": "ipython3",
   "version": "3.12.7"
  }
 },
 "nbformat": 4,
 "nbformat_minor": 5
}
