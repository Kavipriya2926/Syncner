{
 "cells": [
  {
   "cell_type": "code",
   "execution_count": 1,
   "id": "c031a811-3363-41c7-9aeb-c71d0ad58904",
   "metadata": {},
   "outputs": [
    {
     "name": "stdout",
     "output_type": "stream",
     "text": [
      "Variance: 8.0\n",
      "Standard Deviation: 2.8284271247461903\n",
      "Variance measures spread, and standard deviation shows typical deviation from the mean.\n"
     ]
    }
   ],
   "source": [
    "import statistics\n",
    "data=[2,4,6,8,10]\n",
    "mean=sum(data)/len(data)\n",
    "variance = sum((x - mean) ** 2 for x in data) / len(data)\n",
    "std_deviation = variance ** 0.5\n",
    "print(\"Variance:\",variance)\n",
    "print(\"Standard Deviation:\",std_deviation)\n",
    "print(\"Variance measures spread, and standard deviation shows typical deviation from the mean.\")"
   ]
  },
  {
   "cell_type": "code",
   "execution_count": null,
   "id": "e513bf35-587a-4e21-b575-fb3d11ef6a37",
   "metadata": {},
   "outputs": [],
   "source": []
  }
 ],
 "metadata": {
  "kernelspec": {
   "display_name": "Python [conda env:base] *",
   "language": "python",
   "name": "conda-base-py"
  },
  "language_info": {
   "codemirror_mode": {
    "name": "ipython",
    "version": 3
   },
   "file_extension": ".py",
   "mimetype": "text/x-python",
   "name": "python",
   "nbconvert_exporter": "python",
   "pygments_lexer": "ipython3",
   "version": "3.12.7"
  }
 },
 "nbformat": 4,
 "nbformat_minor": 5
}
