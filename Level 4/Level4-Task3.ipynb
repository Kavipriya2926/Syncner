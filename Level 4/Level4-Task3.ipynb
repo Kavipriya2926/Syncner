{
 "cells": [
  {
   "cell_type": "code",
   "execution_count": 3,
   "id": "77f809d3-37bd-44da-9de2-712e5ec7b025",
   "metadata": {},
   "outputs": [
    {
     "name": "stdout",
     "output_type": "stream",
     "text": [
      "           id   Date  number of bedrooms  number of bathrooms  living area  \\\n",
      "0  6762810145  42491                   5                 2.50         3650   \n",
      "1  6762810635  42491                   4                 2.50         2920   \n",
      "2  6762810998  42491                   5                 2.75         2910   \n",
      "3  6762812605  42491                   4                 2.50         3310   \n",
      "4  6762812919  42491                   3                 2.00         2710   \n",
      "\n",
      "   lot area  number of floors  waterfront present  number of views  \\\n",
      "0      9050               2.0                   0                4   \n",
      "1      4000               1.5                   0                0   \n",
      "2      9480               1.5                   0                0   \n",
      "3     42998               2.0                   0                0   \n",
      "4      4500               1.5                   0                0   \n",
      "\n",
      "   condition of the house  ...  Renovation Year  Postal Code  Lattitude  \\\n",
      "0                       5  ...                0       122003    52.8645   \n",
      "1                       5  ...                0       122004    52.8878   \n",
      "2                       3  ...                0       122004    52.8852   \n",
      "3                       3  ...                0       122005    52.9532   \n",
      "4                       4  ...                0       122006    52.9047   \n",
      "\n",
      "   Longitude  living_area_renov  lot_area_renov  Number of schools nearby  \\\n",
      "0   -114.557               2880            5400                         2   \n",
      "1   -114.470               2470            4000                         2   \n",
      "2   -114.468               2940            6600                         1   \n",
      "3   -114.321               3350           42847                         3   \n",
      "4   -114.485               2060            4500                         1   \n",
      "\n",
      "   Distance from the airport    Price  price_per_sqft  \n",
      "0                         58  2380000      706.231454  \n",
      "1                         51  1400000      732.984293  \n",
      "2                         53  1200000      412.371134  \n",
      "3                         76   838000      253.172205  \n",
      "4                         51   805000      428.191489  \n",
      "\n",
      "[5 rows x 24 columns]\n"
     ]
    }
   ],
   "source": [
    "import pandas as pd\n",
    "df=pd.read_csv('D:/house_data.csv')\n",
    "price_column = 'Price'\n",
    "square_footage_column = 'Area of the house(excluding basement)'\n",
    "df['price_per_sqft'] = df[price_column] / df[square_footage_column]\n",
    "print(df.head())\n"
   ]
  },
  {
   "cell_type": "code",
   "execution_count": null,
   "id": "00731ee4-df42-4308-b4ac-473750bef979",
   "metadata": {},
   "outputs": [],
   "source": []
  }
 ],
 "metadata": {
  "kernelspec": {
   "display_name": "Python [conda env:base] *",
   "language": "python",
   "name": "conda-base-py"
  },
  "language_info": {
   "codemirror_mode": {
    "name": "ipython",
    "version": 3
   },
   "file_extension": ".py",
   "mimetype": "text/x-python",
   "name": "python",
   "nbconvert_exporter": "python",
   "pygments_lexer": "ipython3",
   "version": "3.12.7"
  }
 },
 "nbformat": 4,
 "nbformat_minor": 5
}
