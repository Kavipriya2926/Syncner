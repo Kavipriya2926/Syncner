{
 "cells": [
  {
   "cell_type": "code",
   "execution_count": 1,
   "id": "829f2e77-ae51-4dbe-90f5-2ee09ffd46ee",
   "metadata": {},
   "outputs": [
    {
     "name": "stdout",
     "output_type": "stream",
     "text": [
      "Descriptive statistics (mean test scores):85.5%\n",
      "Inferential Statistic (Confidence Interval for preferences): (50.0, 69.0)\n"
     ]
    }
   ],
   "source": [
    "import numpy as np\n",
    "import scipy.stats as stats\n",
    "test_scores = [80, 85, 90, 95, 85, 70, 75, 90, 100, 85]\n",
    "mean_score=np.mean(test_scores)\n",
    "print(f\"Descriptive statistics (mean test scores):{mean_score}%\")\n",
    "sample_size = 100\n",
    "survey_preference_percentage = 60\n",
    "confidence_level = 0.95\n",
    "confidence_interval = stats.binom.interval(confidence_level, sample_size, survey_preference_percentage/100)\n",
    "print(f\"Inferential Statistic (Confidence Interval for preferences): {confidence_interval}\")"
   ]
  },
  {
   "cell_type": "code",
   "execution_count": null,
   "id": "576fccc8-d0a0-4136-a07d-7a7b5fafcbc3",
   "metadata": {},
   "outputs": [],
   "source": []
  }
 ],
 "metadata": {
  "kernelspec": {
   "display_name": "Python [conda env:base] *",
   "language": "python",
   "name": "conda-base-py"
  },
  "language_info": {
   "codemirror_mode": {
    "name": "ipython",
    "version": 3
   },
   "file_extension": ".py",
   "mimetype": "text/x-python",
   "name": "python",
   "nbconvert_exporter": "python",
   "pygments_lexer": "ipython3",
   "version": "3.12.7"
  }
 },
 "nbformat": 4,
 "nbformat_minor": 5
}
