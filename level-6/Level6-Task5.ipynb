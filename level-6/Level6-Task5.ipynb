{
 "cells": [
  {
   "cell_type": "code",
   "execution_count": 1,
   "id": "00e17388-a03c-430a-a438-2a09b05a834a",
   "metadata": {},
   "outputs": [
    {
     "name": "stdout",
     "output_type": "stream",
     "text": [
      "Mean :21\n",
      "Median :5.5\n",
      "MOde :5\n",
      "The mean is high due to the outlier 100, while median and mode show the central trend.\n"
     ]
    }
   ],
   "source": [
    "import statistics\n",
    "data=[3,5,5,6,7,100]\n",
    "mean=statistics.mean(data)\n",
    "median=statistics.median(data)\n",
    "mode=statistics.mode(data)\n",
    "print(f\"Mean :{mean}\")\n",
    "print(f\"Median :{median}\")\n",
    "print(f\"MOde :{mode}\")\n",
    "print(\"The mean is high due to the outlier 100, while median and mode show the central trend.\")"
   ]
  },
  {
   "cell_type": "code",
   "execution_count": null,
   "id": "de61da28-9d21-4a53-b89c-e0e778930b89",
   "metadata": {},
   "outputs": [],
   "source": []
  }
 ],
 "metadata": {
  "kernelspec": {
   "display_name": "Python [conda env:base] *",
   "language": "python",
   "name": "conda-base-py"
  },
  "language_info": {
   "codemirror_mode": {
    "name": "ipython",
    "version": 3
   },
   "file_extension": ".py",
   "mimetype": "text/x-python",
   "name": "python",
   "nbconvert_exporter": "python",
   "pygments_lexer": "ipython3",
   "version": "3.12.7"
  }
 },
 "nbformat": 4,
 "nbformat_minor": 5
}
