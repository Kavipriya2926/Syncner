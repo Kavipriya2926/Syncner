{
 "cells": [
  {
   "cell_type": "code",
   "execution_count": 1,
   "id": "333412ad-50df-4a32-9a31-cf841dd68e6c",
   "metadata": {},
   "outputs": [
    {
     "name": "stdout",
     "output_type": "stream",
     "text": [
      "Best Parameters: {'criterion': 'entropy', 'max_depth': 5, 'min_samples_leaf': 4, 'min_samples_split': 2}\n",
      "Best Cross-Validation Score: 0.6052\n",
      "Accuracy of Tuned Model: 0.5844\n",
      "Confusion Matrix:\n",
      "[[ 0  0  1  0  0  0]\n",
      " [ 0  0  7  2  1  0]\n",
      " [ 0  2 95 31  2  0]\n",
      " [ 0  0 44 72 15  1]\n",
      " [ 0  1  2 19 20  0]\n",
      " [ 0  0  0  1  4  0]]\n",
      "Accuracy of Untuned Model: 0.5594\n",
      "Confusion Matrix of Untuned Model:\n",
      "[[ 0  0  0  1  0  0]\n",
      " [ 0  0  5  5  0  0]\n",
      " [ 1  4 88 35  2  0]\n",
      " [ 0  3 40 70 17  2]\n",
      " [ 0  1  5 14 21  1]\n",
      " [ 0  0  1  3  1  0]]\n"
     ]
    }
   ],
   "source": [
    "import pandas as pd\n",
    "from sklearn.model_selection import train_test_split\n",
    "from sklearn.tree import DecisionTreeClassifier\n",
    "from sklearn.model_selection import GridSearchCV\n",
    "from sklearn.metrics import accuracy_score, confusion_matrix\n",
    "\n",
    "data = pd.read_csv('D:/winequality.csv') \n",
    "\n",
    "X = data.drop('quality', axis=1)  \n",
    "y = data['quality']  \n",
    "\n",
    "X_train, X_test, y_train, y_test = train_test_split(X, y, test_size=0.2, random_state=42)\n",
    "\n",
    "param_grid = {\n",
    "    'max_depth': [3, 5, 10, None],  \n",
    "    'min_samples_split': [2, 5, 10], \n",
    "    'min_samples_leaf': [1, 2, 4],  \n",
    "    'criterion': ['gini', 'entropy']  \n",
    "}\n",
    "\n",
    "dt_model = DecisionTreeClassifier(random_state=42)\n",
    "\n",
    "grid_search = GridSearchCV(estimator=dt_model, param_grid=param_grid, cv=5, scoring='accuracy')  # Use 'neg_mean_squared_error' for regression\n",
    "\n",
    "grid_search.fit(X_train, y_train)\n",
    "\n",
    "best_params = grid_search.best_params_\n",
    "best_score = grid_search.best_score_\n",
    "\n",
    "print(f\"Best Parameters: {best_params}\")\n",
    "print(f\"Best Cross-Validation Score: {best_score:.4f}\")\n",
    "\n",
    "best_dt_model = grid_search.best_estimator_\n",
    "\n",
    "y_pred = best_dt_model.predict(X_test)\n",
    "\n",
    "accuracy = accuracy_score(y_test, y_pred)\n",
    "conf_matrix = confusion_matrix(y_test, y_pred)\n",
    "\n",
    "print(f\"Accuracy of Tuned Model: {accuracy:.4f}\")\n",
    "print(\"Confusion Matrix:\")\n",
    "print(conf_matrix)\n",
    "\n",
    "untuned_dt_model = DecisionTreeClassifier(random_state=42)\n",
    "\n",
    "untuned_dt_model.fit(X_train, y_train)\n",
    "y_pred_untuned = untuned_dt_model.predict(X_test)\n",
    "untuned_accuracy = accuracy_score(y_test, y_pred_untuned)\n",
    "untuned_conf_matrix = confusion_matrix(y_test, y_pred_untuned)\n",
    "\n",
    "print(f\"Accuracy of Untuned Model: {untuned_accuracy:.4f}\")\n",
    "print(\"Confusion Matrix of Untuned Model:\")\n",
    "print(untuned_conf_matrix)"
   ]
  },
  {
   "cell_type": "code",
   "execution_count": null,
   "id": "fdb10bcc-b7c8-4e76-b051-3de295c36545",
   "metadata": {},
   "outputs": [],
   "source": []
  }
 ],
 "metadata": {
  "kernelspec": {
   "display_name": "Python [conda env:base] *",
   "language": "python",
   "name": "conda-base-py"
  },
  "language_info": {
   "codemirror_mode": {
    "name": "ipython",
    "version": 3
   },
   "file_extension": ".py",
   "mimetype": "text/x-python",
   "name": "python",
   "nbconvert_exporter": "python",
   "pygments_lexer": "ipython3",
   "version": "3.12.7"
  }
 },
 "nbformat": 4,
 "nbformat_minor": 5
}
