{
 "cells": [
  {
   "cell_type": "code",
   "execution_count": 15,
   "id": "a4d0e241-09ee-4b5d-8f00-8e5c1b33aa54",
   "metadata": {
    "scrolled": true
   },
   "outputs": [
    {
     "name": "stdout",
     "output_type": "stream",
     "text": [
      "Optimal alpha: 0.01\n",
      "     Model           MSE   R²\n",
      "0  Untuned  1.734241e-11  1.0\n",
      "1    Tuned  3.185261e-15  1.0\n"
     ]
    }
   ],
   "source": [
    "from sklearn.model_selection import GridSearchCV\n",
    "from sklearn.linear_model import Ridge  # or Lasso\n",
    "from sklearn.metrics import mean_squared_error, r2_score\n",
    "from sklearn.model_selection import train_test_split\n",
    "import pandas as pd\n",
    "\n",
    "df = pd.read_csv('D:/CarPrice_Assignment.csv')\n",
    "df_dummies = pd.get_dummies(df.drop(columns=['car_ID', 'CarName']), drop_first=True)\n",
    "\n",
    "X = df_dummies\n",
    "y = df['price']\n",
    "X_train, X_test, y_train, y_test = train_test_split(X, y, test_size=0.2, random_state=42)\n",
    "\n",
    "model = Ridge()  \n",
    "\n",
    "param_grid = {'alpha': [0.01, 0.1, 1, 10]}\n",
    "grid_search = GridSearchCV(model, param_grid, cv=5, scoring='neg_mean_squared_error')\n",
    "\n",
    "grid_search.fit(X_train, y_train)\n",
    "\n",
    "best_alpha = grid_search.best_params_['alpha']\n",
    "print(f'Optimal alpha: {best_alpha}')\n",
    "\n",
    "best_model = grid_search.best_estimator_\n",
    "\n",
    "y_pred = best_model.predict(X_test)\n",
    "mse_tuned = mean_squared_error(y_test, y_pred)\n",
    "r2_tuned = r2_score(y_test, y_pred)\n",
    "\n",
    "untuned_model = Ridge(alpha=1.0)  \n",
    "untuned_model.fit(X_train, y_train)\n",
    "y_pred_untuned = untuned_model.predict(X_test)\n",
    "\n",
    "mse_untuned = mean_squared_error(y_test, y_pred_untuned)\n",
    "r2_untuned = r2_score(y_test, y_pred_untuned)\n",
    "\n",
    "comparison = pd.DataFrame({\n",
    "    'Model': ['Untuned', 'Tuned'],\n",
    "    'MSE': [mse_untuned, mse_tuned],\n",
    "    'R²': [r2_untuned, r2_tuned]\n",
    "})\n",
    "print(comparison)\n"
   ]
  },
  {
   "cell_type": "code",
   "execution_count": null,
   "id": "1f0657d7-e7df-41cb-8d6d-cbe0d69fa989",
   "metadata": {},
   "outputs": [],
   "source": []
  }
 ],
 "metadata": {
  "kernelspec": {
   "display_name": "Python [conda env:base] *",
   "language": "python",
   "name": "conda-base-py"
  },
  "language_info": {
   "codemirror_mode": {
    "name": "ipython",
    "version": 3
   },
   "file_extension": ".py",
   "mimetype": "text/x-python",
   "name": "python",
   "nbconvert_exporter": "python",
   "pygments_lexer": "ipython3",
   "version": "3.12.7"
  }
 },
 "nbformat": 4,
 "nbformat_minor": 5
}
